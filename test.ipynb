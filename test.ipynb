{
 "cells": [
  {
   "cell_type": "code",
   "execution_count": 2,
   "metadata": {},
   "outputs": [
    {
     "name": "stdout",
     "output_type": "stream",
     "text": [
      "<class 'str'>\n",
      "<class 'str'>\n",
      "2d2d2d2d2d424547494e205253412050524956415445204b45592d2d2d2d2d0a4d4949456f77494241414b43415145416c47435a6e495754356b396c54527171762b4e574f5836446f63555968444543736542566a5163776b78476e4479724d0a796c5456456164362f674a6b69674a57796c4e535a787245746144476838384543706a6f433376724a6b70615076446f366d3637785a653537397055423262550a6a713945436b4e4967516e6975737479554763636d796c5a554a33326e337672776e2b464d506c6a743570626354696546525a4f426d6546715156444b742f380a475a4c30517548486b72786d6862344d6f44524f6b324f6a765148744c5a5136723746755a4972584d59484462726954516c6d384b2f554479344d74356e736a0a4c3274776a6c6b6949336579426d686f6c6d4b4e5778412f6a424a6c55486f4e5a39496f4c5731763536796b4268622b56444d422b6634714b463445507035340a30626b336a37744d356750534478375336646e4147307a3850356e6f6e4b7358543946647177494441514142416f4942414234493138395a4d7245434455316f0a516e774a4e7144347651683337786944477a714b5949626c6c36324e657a5755776c4f4b6a48374157694d6b744e6c43302f4b736e78654430614736593757460a38426c3944697555372b7157546d4a4450634b476d37664a6d4c653269422f6662744e624976693432657055352f4a4c304633364955342f4e6e636449706a780a3671303652756d38386252757147666f77416367747261524b66736d614a767a56397a6e456d7777725a4430396467423748596947584343692f782b335263370a566130556d782f5a4f7767714d374b6571506c50524a3768507068674873484a3268336c5732566b4b374568335a3438746e384c674d6d2f5938646d6239716a0a744954614441786b6f376a47444e512f546c563869696932764550644e646f3777784e6b5848746f4170454f6348647a375051414c75654d50316c36643771640a46324e736d5745436759454176534a504a55566946646d422b71544432695332534c76347a767953426e34314c77666b3176356a703458383946477875472b550a64725870677270394749506e5a61526b2b4334764847624979696a455a386a567a7950534951414d5058765a4469334c36696571786445316f376a662f4a39660a5961766f6d31543865647154324134416c794a6877736a6e74542f59646142772f7650774a78463365684239733069704b694f4535474d4367594541794e57560a4e446c4b6e2b62773245695534594175542f31736a343541515a6e554b54556e53556b686430636a75375a4d6f55547a7a4730594f72624a6d4a51444f3778680a304e6f635477484a724c39463067507872743954475751552f377542426f644f50742b787573584d347a4a61784a796874366956494b58576f76412b375876690a584c336e473976474b58436f545534697a534632316e4b326466354b695a6b3748384c5273426b43675942583759396d41472b74514d5751785044596861444a0a4237715159424e7a4f564634582b38666c487933385336385677364d64444e4e5452305754615443744f2f7137526154327354454b33544670315a482b624b4d0a376c5a4f5354746e6969424b327a656c30484d774c436348796e63336474426446424b3778444c73593558414b434a5749514861454a5449537270545652657a0a4c3631435048695449762b4e54675a334e4c516669514b426751436e7a77376b6e42706d6b616b636a306b58517574766d756c693668463276766f766c474a480a4d6676736c6c79644e4333446373486a52695441716f713447725334375363755135447a30794b5958526f5236596d2f2f49714b354c31484558303133306a5a0a38442b704f433243695569656a2b487765385266697a4a55347a6b785a686f324d396376782b74454a51583730685879494d775455375a783052436d2b496f570a6438714e77514b42674465584e74497a6b427a647150394d653064546170484e626d362f737944425a55684d727a6c546558545538465552306b414c546a2f660a3457796a4e445a2f6c554b7a626d6f6d564c365835676e78716748436d4147326867396a6a54684e4d3843514d66416c48733177447539786c6e67384b7154760a34794b67384d714a67736c68776c6a2f685577584e3172317872722f77376f70547a3730444c4b452f45795169594869774e34520a2d2d2d2d2d454e44205253412050524956415445204b45592d2d2d2d2d\n",
      "2d2d2d2d2d424547494e205055424c4943204b45592d2d2d2d2d0a4d494942496a414e42676b71686b6947397730424151454641414f43415138414d49494243674b43415145416c47435a6e495754356b396c54527171762b4e570a4f5836446f63555968444543736542566a5163776b78476e4479724d796c5456456164362f674a6b69674a57796c4e535a787245746144476838384543706a6f0a433376724a6b70615076446f366d3637785a653537397055423262556a713945436b4e4967516e6975737479554763636d796c5a554a33326e337672776e2b460a4d506c6a743570626354696546525a4f426d6546715156444b742f38475a4c30517548486b72786d6862344d6f44524f6b324f6a765148744c5a5136723746750a5a4972584d59484462726954516c6d384b2f554479344d74356e736a4c3274776a6c6b6949336579426d686f6c6d4b4e5778412f6a424a6c55486f4e5a39496f0a4c5731763536796b4268622b56444d422b6634714b4634455070353430626b336a37744d356750534478375336646e4147307a3850356e6f6e4b7358543946640a71774944415141420a2d2d2d2d2d454e44205055424c4943204b45592d2d2d2d2d\n"
     ]
    }
   ],
   "source": [
    "import hashlib\n",
    "import os\n",
    "from Crypto.PublicKey import RSA\n",
    "from Crypto.Cipher import PKCS1_OAEP, AES\n",
    "from Crypto.Random import get_random_bytes\n",
    "import hashlib\n",
    "import base64\n",
    "\n",
    "rsa_key = RSA.generate(2048)\n",
    "private_key = rsa_key.export_key().hex()\n",
    "public_key = rsa_key.publickey().export_key().hex()\n",
    "aes_key = get_random_bytes(16)\n",
    "\n",
    "print(type(private_key))\n",
    "print(type(public_key))\n",
    "print(private_key)\n",
    "print(public_key)\n",
    "\n",
    "\n",
    "def AES_encrypt(plaintext,aes_key):\n",
    "    plaintext = base64.b64encode(plaintext.encode())\n",
    "    cipher = AES.new(aes_key, AES.MODE_EAX)\n",
    "    ciphertext, tag = cipher.encrypt_and_digest(plaintext)\n",
    "    ciphertext = str(cipher.nonce.hex()) + str(tag.hex()) + str(ciphertext.hex())\n",
    "    return ciphertext\n",
    "\n",
    "\n",
    "def AES_decrypt(ciphertext,aes_key):\n",
    "    nonce = ciphertext[:32]\n",
    "    tag = ciphertext[32:64]\n",
    "    ciphertext = ciphertext[64:]\n",
    "    nonce = bytes.fromhex(str(nonce))\n",
    "    tag = bytes.fromhex(str(tag))\n",
    "    ciphertext = bytes.fromhex(str(ciphertext))\n",
    "    cipher = AES.new(aes_key, AES.MODE_EAX, nonce)\n",
    "    plaintext = cipher.decrypt_and_verify(ciphertext, tag)\n",
    "    plaintext = base64.b64decode(data).decode()\n",
    "    return plaintext\n",
    "\n",
    "\n",
    "def RSA_encrypt(plaintext):\n",
    "    plaintext= hashlib.md5(plaintext.encode()).digest()\n",
    "    recipient_key = RSA.import_key(bytes.fromhex(str(public_key)))\n",
    "    cipher_rsa = PKCS1_OAEP.new(recipient_key)\n",
    "    ciphertext = cipher_rsa.encrypt(plaintext)\n",
    "    return ciphertext.hex()\n",
    "\n",
    "\n",
    "def RSA_decrypt(ciphertext):\n",
    "    private_key = RSA.import_key(private_key)\n",
    "    cipher_rsa = PKCS1_OAEP.new(private_key)\n",
    "    plaintext = cipher_rsa.decrypt(ciphertext)\n",
    "    return plaintext"
   ]
  },
  {
   "cell_type": "code",
   "execution_count": 3,
   "metadata": {},
   "outputs": [],
   "source": [
    "# text = \"Lorem100\"\n",
    "text = \"Lorem ipsum dolor sit amet, consectetur adipiscing elit sed do eiusmod tempor incididunt ut labore et dolore magna aliqua. Ut enim ad minim veniam, quis nostrud exercitation ullamco laboris nisi ut aliquip ex ea commodo consequat. Duis aute irure dolor in reprehenderit in voluptate velit esse cillum dolore eu fugiat nulla pariatur. Excepteur sint occaecat cupidatat non proident, sunt in culpa qui officia deserunt mollit anim id est laborum. Lorem ipsum dolor sit amet, consectetur adipiscing elit sed do eiusmod tempor incididunt ut labore et dolore magna aliqua. Ut enim ad minim veniam, quis nostrud exercitation ullamco laboris nisi ut aliquip ex ea commodo consequat. Duis aute irure dolor in reprehenderit in voluptate velit esse cillum dolore eu fugiat nulla pariatur. Excepteur sint occaecat cupidatat non proident, sunt in culpa qui officia deserunt mollit anim id est laborum.\""
   ]
  },
  {
   "cell_type": "code",
   "execution_count": 4,
   "metadata": {},
   "outputs": [
    {
     "data": {
      "text/plain": [
       "512"
      ]
     },
     "execution_count": 4,
     "metadata": {},
     "output_type": "execute_result"
    }
   ],
   "source": [
    "len(RSA_encrypt(text))"
   ]
  },
  {
   "cell_type": "code",
   "execution_count": 57,
   "metadata": {},
   "outputs": [],
   "source": [
    "data=AES_encrypt(text,aes_key)"
   ]
  },
  {
   "cell_type": "code",
   "execution_count": 58,
   "metadata": {},
   "outputs": [
    {
     "data": {
      "text/plain": [
       "'Lorem ipsum dolor sit amet, consectetur adipiscing elit sed do eiusmod tempor incididunt ut labore et dolore magna aliqua. Ut enim ad minim veniam, quis nostrud exercitation ullamco laboris nisi ut aliquip ex ea commodo consequat. Duis aute irure dolor in reprehenderit in voluptate velit esse cillum dolore eu fugiat nulla pariatur. Excepteur sint occaecat cupidatat non proident, sunt in culpa qui officia deserunt mollit anim id est laborum. Lorem ipsum dolor sit amet, consectetur adipiscing elit sed do eiusmod tempor incididunt ut labore et dolore magna aliqua. Ut enim ad minim veniam, quis nostrud exercitation ullamco laboris nisi ut aliquip ex ea commodo consequat. Duis aute irure dolor in reprehenderit in voluptate velit esse cillum dolore eu fugiat nulla pariatur. Excepteur sint occaecat cupidatat non proident, sunt in culpa qui officia deserunt mollit anim id est laborum.'"
      ]
     },
     "execution_count": 58,
     "metadata": {},
     "output_type": "execute_result"
    }
   ],
   "source": [
    "AES_decrypt(aes_key,data)"
   ]
  },
  {
   "cell_type": "code",
   "execution_count": 11,
   "metadata": {},
   "outputs": [
    {
     "name": "stdout",
     "output_type": "stream",
     "text": [
      "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\n"
     ]
    }
   ],
   "source": [
    "rsa_key = RSA.generate(2048)\n",
    "private_key = rsa_key.export_key().hex()\n",
    "public_key = rsa_key.publickey().export_key().hex()\n",
    "aes_key = get_random_bytes(16)\n",
    "\n",
    "def create_digital_signature(data,private_key):\n",
    "    private_key = RSA.import_key(bytes.fromhex(str(private_key)))\n",
    "    signature = hashlib.md5(data.encode()).digest()\n",
    "    cipher_rsa = PKCS1_OAEP.new(private_key)\n",
    "    signature = cipher_rsa.encrypt(signature)\n",
    "    return signature.hex()\n",
    "\n",
    "\n",
    "\n",
    "def verify_digital_signature(data,signature,public_key):\n",
    "    public_key = RSA.import_key(bytes.fromhex(str(public_key)))\n",
    "    cipher_rsa = PKCS1_OAEP.new(public_key)\n",
    "    signature = cipher_rsa.decrypt(bytes.fromhex(str(signature)))\n",
    "    if signature == hashlib.md5(data.encode()).digest():\n",
    "        return True\n",
    "    else:\n",
    "        return False\n",
    "    \n",
    "print(private_key)"
   ]
  },
  {
   "cell_type": "code",
   "execution_count": 31,
   "metadata": {},
   "outputs": [
    {
     "name": "stdout",
     "output_type": "stream",
     "text": [
      "True\n",
      "False\n"
     ]
    }
   ],
   "source": [
    "# pip install cryptography\n",
    "\n",
    "import base64\n",
    "from cryptography.hazmat.backends import default_backend\n",
    "from cryptography.hazmat.primitives.asymmetric import rsa\n",
    "from cryptography.hazmat.primitives import hashes\n",
    "from cryptography.hazmat.primitives.asymmetric import padding\n",
    "from cryptography.hazmat.primitives.serialization import Encoding, PrivateFormat, NoEncryption\n",
    "import cryptography\n",
    "\n",
    "def rsa_keypair():\n",
    "    private_key = rsa.generate_private_key(public_exponent=65537, key_size=2048, backend=default_backend())\n",
    "    return (private_key, private_key.public_key())\n",
    "\n",
    "def sign(message, private_key):\n",
    "    padding_instance = padding.PSS(mgf=padding.MGF1(hashes.SHA256()), salt_length=padding.PSS.MAX_LENGTH)\n",
    "    return base64.b64encode(private_key.sign(message, padding_instance, hashes.SHA256()))\n",
    "\n",
    "def verify(message, signature, public_key):\n",
    "    sig = base64.b64decode(signature)\n",
    "    padding_instance = padding.PSS(mgf=padding.MGF1(hashes.SHA256()), salt_length=padding.PSS.MAX_LENGTH)\n",
    "    try:\n",
    "        public_key.verify(sig, message, padding_instance, hashes.SHA256())\n",
    "        return True\n",
    "    except cryptography.exceptions.InvalidSignature:\n",
    "        return False\n",
    "\n",
    "pvt1, pub1 = rsa_keypair()\n",
    "pvt2, _    = rsa_keypair()\n",
    "\n",
    "msg = b\"Hello you!\"\n",
    "sig1 = sign(msg, pvt1) # signed with private key\n",
    "sig2 = sign(msg, pvt2) # signed with *other* private key\n",
    "\n",
    "res = verify(msg, sig1, pub1)\n",
    "print(res)                    # True:  ok...     signed with the private key related to public key pub1\n",
    "res = verify(msg, sig2, pub1)\n",
    "print(res)                    # False: no! *not* signed with the private key related to public key pub1"
   ]
  },
  {
   "cell_type": "code",
   "execution_count": 35,
   "metadata": {},
   "outputs": [
    {
     "ename": "ValueError",
     "evalue": "non-hexadecimal number found in fromhex() arg at position 0",
     "output_type": "error",
     "traceback": [
      "\u001b[1;31m---------------------------------------------------------------------------\u001b[0m",
      "\u001b[1;31mValueError\u001b[0m                                Traceback (most recent call last)",
      "Cell \u001b[1;32mIn[35], line 1\u001b[0m\n\u001b[1;32m----> 1\u001b[0m signature \u001b[38;5;241m=\u001b[39m \u001b[43mcreate_digital_signature\u001b[49m\u001b[43m(\u001b[49m\u001b[43mtext\u001b[49m\u001b[43m,\u001b[49m\u001b[43m \u001b[49m\u001b[43mprivate_key\u001b[49m\u001b[43m)\u001b[49m\n\u001b[0;32m      2\u001b[0m \u001b[38;5;66;03m# verify_digital_signature(text, signature, public_key)\u001b[39;00m\n\u001b[0;32m      3\u001b[0m signature\n",
      "Cell \u001b[1;32mIn[11], line 7\u001b[0m, in \u001b[0;36mcreate_digital_signature\u001b[1;34m(data, private_key)\u001b[0m\n\u001b[0;32m      6\u001b[0m \u001b[38;5;28;01mdef\u001b[39;00m \u001b[38;5;21mcreate_digital_signature\u001b[39m(data,private_key):\n\u001b[1;32m----> 7\u001b[0m     private_key \u001b[38;5;241m=\u001b[39m RSA\u001b[38;5;241m.\u001b[39mimport_key(\u001b[38;5;28;43mbytes\u001b[39;49m\u001b[38;5;241;43m.\u001b[39;49m\u001b[43mfromhex\u001b[49m\u001b[43m(\u001b[49m\u001b[38;5;28;43mstr\u001b[39;49m\u001b[43m(\u001b[49m\u001b[43mprivate_key\u001b[49m\u001b[43m)\u001b[49m\u001b[43m)\u001b[49m)\n\u001b[0;32m      8\u001b[0m     signature \u001b[38;5;241m=\u001b[39m hashlib\u001b[38;5;241m.\u001b[39mmd5(data\u001b[38;5;241m.\u001b[39mencode())\u001b[38;5;241m.\u001b[39mdigest()\n\u001b[0;32m      9\u001b[0m     cipher_rsa \u001b[38;5;241m=\u001b[39m PKCS1_OAEP\u001b[38;5;241m.\u001b[39mnew(private_key)\n",
      "\u001b[1;31mValueError\u001b[0m: non-hexadecimal number found in fromhex() arg at position 0"
     ]
    }
   ],
   "source": [
    "signature = create_digital_signature(text, private_key)\n",
    "# verify_digital_signature(text, signature, public_key)\n",
    "signature"
   ]
  },
  {
   "cell_type": "code",
   "execution_count": 13,
   "metadata": {},
   "outputs": [
    {
     "ename": "TypeError",
     "evalue": "This is not a private key",
     "output_type": "error",
     "traceback": [
      "\u001b[1;31m---------------------------------------------------------------------------\u001b[0m",
      "\u001b[1;31mTypeError\u001b[0m                                 Traceback (most recent call last)",
      "Cell \u001b[1;32mIn[13], line 1\u001b[0m\n\u001b[1;32m----> 1\u001b[0m \u001b[43mverify_digital_signature\u001b[49m\u001b[43m(\u001b[49m\u001b[43mtext\u001b[49m\u001b[43m,\u001b[49m\u001b[43m \u001b[49m\u001b[43msignature\u001b[49m\u001b[43m,\u001b[49m\u001b[43m \u001b[49m\u001b[43mpublic_key\u001b[49m\u001b[43m)\u001b[49m\n",
      "Cell \u001b[1;32mIn[11], line 18\u001b[0m, in \u001b[0;36mverify_digital_signature\u001b[1;34m(data, signature, public_key)\u001b[0m\n\u001b[0;32m     16\u001b[0m public_key \u001b[38;5;241m=\u001b[39m RSA\u001b[38;5;241m.\u001b[39mimport_key(\u001b[38;5;28mbytes\u001b[39m\u001b[38;5;241m.\u001b[39mfromhex(\u001b[38;5;28mstr\u001b[39m(public_key)))\n\u001b[0;32m     17\u001b[0m cipher_rsa \u001b[38;5;241m=\u001b[39m PKCS1_OAEP\u001b[38;5;241m.\u001b[39mnew(public_key)\n\u001b[1;32m---> 18\u001b[0m signature \u001b[38;5;241m=\u001b[39m \u001b[43mcipher_rsa\u001b[49m\u001b[38;5;241;43m.\u001b[39;49m\u001b[43mdecrypt\u001b[49m\u001b[43m(\u001b[49m\u001b[38;5;28;43mbytes\u001b[39;49m\u001b[38;5;241;43m.\u001b[39;49m\u001b[43mfromhex\u001b[49m\u001b[43m(\u001b[49m\u001b[38;5;28;43mstr\u001b[39;49m\u001b[43m(\u001b[49m\u001b[43msignature\u001b[49m\u001b[43m)\u001b[49m\u001b[43m)\u001b[49m\u001b[43m)\u001b[49m\n\u001b[0;32m     19\u001b[0m \u001b[38;5;28;01mif\u001b[39;00m signature \u001b[38;5;241m==\u001b[39m hashlib\u001b[38;5;241m.\u001b[39mmd5(data\u001b[38;5;241m.\u001b[39mencode())\u001b[38;5;241m.\u001b[39mdigest():\n\u001b[0;32m     20\u001b[0m     \u001b[38;5;28;01mreturn\u001b[39;00m \u001b[38;5;28;01mTrue\u001b[39;00m\n",
      "File \u001b[1;32m~\\AppData\\Roaming\\Python\\Python311\\site-packages\\Crypto\\Cipher\\PKCS1_OAEP.py:173\u001b[0m, in \u001b[0;36mPKCS1OAEP_Cipher.decrypt\u001b[1;34m(self, ciphertext)\u001b[0m\n\u001b[0;32m    171\u001b[0m ct_int \u001b[38;5;241m=\u001b[39m bytes_to_long(ciphertext)\n\u001b[0;32m    172\u001b[0m \u001b[38;5;66;03m# Step 2b (RSADP) and step 2c (I2OSP)\u001b[39;00m\n\u001b[1;32m--> 173\u001b[0m em \u001b[38;5;241m=\u001b[39m \u001b[38;5;28;43mself\u001b[39;49m\u001b[38;5;241;43m.\u001b[39;49m\u001b[43m_key\u001b[49m\u001b[38;5;241;43m.\u001b[39;49m\u001b[43m_decrypt_to_bytes\u001b[49m\u001b[43m(\u001b[49m\u001b[43mct_int\u001b[49m\u001b[43m)\u001b[49m\n\u001b[0;32m    174\u001b[0m \u001b[38;5;66;03m# Step 3a\u001b[39;00m\n\u001b[0;32m    175\u001b[0m lHash \u001b[38;5;241m=\u001b[39m \u001b[38;5;28mself\u001b[39m\u001b[38;5;241m.\u001b[39m_hashObj\u001b[38;5;241m.\u001b[39mnew(\u001b[38;5;28mself\u001b[39m\u001b[38;5;241m.\u001b[39m_label)\u001b[38;5;241m.\u001b[39mdigest()\n",
      "File \u001b[1;32m~\\AppData\\Roaming\\Python\\Python311\\site-packages\\Crypto\\PublicKey\\RSA.py:186\u001b[0m, in \u001b[0;36mRsaKey._decrypt_to_bytes\u001b[1;34m(self, ciphertext)\u001b[0m\n\u001b[0;32m    184\u001b[0m     \u001b[38;5;28;01mraise\u001b[39;00m \u001b[38;5;167;01mValueError\u001b[39;00m(\u001b[38;5;124m\"\u001b[39m\u001b[38;5;124mCiphertext too large\u001b[39m\u001b[38;5;124m\"\u001b[39m)\n\u001b[0;32m    185\u001b[0m \u001b[38;5;28;01mif\u001b[39;00m \u001b[38;5;129;01mnot\u001b[39;00m \u001b[38;5;28mself\u001b[39m\u001b[38;5;241m.\u001b[39mhas_private():\n\u001b[1;32m--> 186\u001b[0m     \u001b[38;5;28;01mraise\u001b[39;00m \u001b[38;5;167;01mTypeError\u001b[39;00m(\u001b[38;5;124m\"\u001b[39m\u001b[38;5;124mThis is not a private key\u001b[39m\u001b[38;5;124m\"\u001b[39m)\n\u001b[0;32m    188\u001b[0m \u001b[38;5;66;03m# Blinded RSA decryption (to prevent timing attacks):\u001b[39;00m\n\u001b[0;32m    189\u001b[0m \u001b[38;5;66;03m# Step 1: Generate random secret blinding factor r,\u001b[39;00m\n\u001b[0;32m    190\u001b[0m \u001b[38;5;66;03m# such that 0 < r < n-1\u001b[39;00m\n\u001b[0;32m    191\u001b[0m r \u001b[38;5;241m=\u001b[39m Integer\u001b[38;5;241m.\u001b[39mrandom_range(min_inclusive\u001b[38;5;241m=\u001b[39m\u001b[38;5;241m1\u001b[39m, max_exclusive\u001b[38;5;241m=\u001b[39m\u001b[38;5;28mself\u001b[39m\u001b[38;5;241m.\u001b[39m_n)\n",
      "\u001b[1;31mTypeError\u001b[0m: This is not a private key"
     ]
    }
   ],
   "source": [
    "verify_digital_signature(text, signature, public_key)"
   ]
  },
  {
   "cell_type": "code",
   "execution_count": 102,
   "metadata": {},
   "outputs": [],
   "source": [
    "import base64\n",
    "from cryptography.hazmat.backends import default_backend\n",
    "from cryptography.hazmat.primitives.asymmetric import rsa\n",
    "from cryptography.hazmat.primitives import hashes\n",
    "from cryptography.hazmat.primitives.asymmetric import padding\n",
    "from cryptography.hazmat.primitives.serialization import Encoding, PrivateFormat, NoEncryption\n",
    "import cryptography\n",
    "\n",
    "def rsa_keypair():\n",
    "    private_key = rsa.generate_private_key(public_exponent=65537, key_size=2048, backend=default_backend())\n",
    "    return (private_key, private_key.public_key())\n",
    "\n",
    "def sign(message, private_key):\n",
    "\n",
    "    message = message.encode('utf-8')\n",
    "    padding_instance = padding.PSS(mgf=padding.MGF1(hashes.SHA256()), salt_length=padding.PSS.MAX_LENGTH)\n",
    "    return base64.b64encode(private_key.sign(message, padding_instance, hashes.SHA256())).hex()\n",
    "\n",
    "def verify(message, signature, public_key):\n",
    "\n",
    "    message = message.encode('utf-8')\n",
    "    signature = base64.b64decode(bytes.fromhex(str(signature)))\n",
    "    padding_instance = padding.PSS(mgf=padding.MGF1(hashes.SHA256()), salt_length=padding.PSS.MAX_LENGTH)\n",
    "    try:\n",
    "        public_key.verify(signature, message, padding_instance, hashes.SHA256())\n",
    "        return True\n",
    "    except cryptography.exceptions.InvalidSignature:\n",
    "        return False"
   ]
  },
  {
   "cell_type": "code",
   "execution_count": 96,
   "metadata": {},
   "outputs": [],
   "source": [
    "private_key, public_key = rsa_keypair()\n",
    "\n",
    "private_key= private_key.private_bytes(encoding=cryptography.hazmat.primitives.serialization.Encoding.PEM, format=cryptography.hazmat.primitives.serialization.PrivateFormat.PKCS8, encryption_algorithm=cryptography.hazmat.primitives.serialization.NoEncryption()).hex()\n",
    "public_key= public_key.public_bytes(encoding=cryptography.hazmat.primitives.serialization.Encoding.PEM, format=cryptography.hazmat.primitives.serialization.PublicFormat.SubjectPublicKeyInfo).hex()"
   ]
  },
  {
   "cell_type": "code",
   "execution_count": 97,
   "metadata": {},
   "outputs": [
    {
     "ename": "AttributeError",
     "evalue": "'bytes' object has no attribute 'sign'",
     "output_type": "error",
     "traceback": [
      "\u001b[1;31m---------------------------------------------------------------------------\u001b[0m",
      "\u001b[1;31mAttributeError\u001b[0m                            Traceback (most recent call last)",
      "Cell \u001b[1;32mIn[97], line 1\u001b[0m\n\u001b[1;32m----> 1\u001b[0m signature \u001b[38;5;241m=\u001b[39m \u001b[43msign\u001b[49m\u001b[43m(\u001b[49m\u001b[43mtext\u001b[49m\u001b[43m,\u001b[49m\u001b[43m \u001b[49m\u001b[43mprivate_key\u001b[49m\u001b[43m)\u001b[49m\n\u001b[0;32m      2\u001b[0m verify(text, signature, public_key)\n",
      "Cell \u001b[1;32mIn[95], line 17\u001b[0m, in \u001b[0;36msign\u001b[1;34m(message, private_key)\u001b[0m\n\u001b[0;32m     15\u001b[0m message \u001b[38;5;241m=\u001b[39m message\u001b[38;5;241m.\u001b[39mencode(\u001b[38;5;124m'\u001b[39m\u001b[38;5;124mutf-8\u001b[39m\u001b[38;5;124m'\u001b[39m)\n\u001b[0;32m     16\u001b[0m padding_instance \u001b[38;5;241m=\u001b[39m padding\u001b[38;5;241m.\u001b[39mPSS(mgf\u001b[38;5;241m=\u001b[39mpadding\u001b[38;5;241m.\u001b[39mMGF1(hashes\u001b[38;5;241m.\u001b[39mSHA256()), salt_length\u001b[38;5;241m=\u001b[39mpadding\u001b[38;5;241m.\u001b[39mPSS\u001b[38;5;241m.\u001b[39mMAX_LENGTH)\n\u001b[1;32m---> 17\u001b[0m \u001b[38;5;28;01mreturn\u001b[39;00m base64\u001b[38;5;241m.\u001b[39mb64encode(\u001b[43mprivate_key\u001b[49m\u001b[38;5;241;43m.\u001b[39;49m\u001b[43msign\u001b[49m(message, padding_instance, hashes\u001b[38;5;241m.\u001b[39mSHA256()))\u001b[38;5;241m.\u001b[39mhex()\n",
      "\u001b[1;31mAttributeError\u001b[0m: 'bytes' object has no attribute 'sign'"
     ]
    }
   ],
   "source": [
    "signature = sign(text, private_key)\n",
    "verify(text, signature, public_key)"
   ]
  },
  {
   "cell_type": "code",
   "execution_count": 93,
   "metadata": {},
   "outputs": [],
   "source": [
    "private_key= private_key.private_bytes(encoding=cryptography.hazmat.primitives.serialization.Encoding.PEM, format=cryptography.hazmat.primitives.serialization.PrivateFormat.PKCS8, encryption_algorithm=cryptography.hazmat.primitives.serialization.NoEncryption()).hex()\n",
    "public_key= public_key.public_bytes(encoding=cryptography.hazmat.primitives.serialization.Encoding.PEM, format=cryptography.hazmat.primitives.serialization.PublicFormat.SubjectPublicKeyInfo).hex()"
   ]
  },
  {
   "cell_type": "code",
   "execution_count": 94,
   "metadata": {},
   "outputs": [
    {
     "data": {
      "text/plain": [
       "'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'"
      ]
     },
     "execution_count": 94,
     "metadata": {},
     "output_type": "execute_result"
    }
   ],
   "source": [
    "private_key"
   ]
  },
  {
   "cell_type": "code",
   "execution_count": 72,
   "metadata": {},
   "outputs": [
    {
     "name": "stdout",
     "output_type": "stream",
     "text": [
      "<class 'cryptography.hazmat.bindings._rust.openssl.rsa.RSAPrivateKey'>\n",
      "<class 'cryptography.hazmat.bindings._rust.openssl.rsa.RSAPublicKey'>\n"
     ]
    },
    {
     "data": {
      "text/plain": [
       "(None, None)"
      ]
     },
     "execution_count": 72,
     "metadata": {},
     "output_type": "execute_result"
    }
   ],
   "source": [
    "print(type(private_key)), print(type(public_key))"
   ]
  },
  {
   "cell_type": "code",
   "execution_count": 69,
   "metadata": {},
   "outputs": [
    {
     "name": "stdout",
     "output_type": "stream",
     "text": [
      "688\n"
     ]
    }
   ],
   "source": [
    "print(len(signature))"
   ]
  },
  {
   "cell_type": "code",
   "execution_count": null,
   "metadata": {},
   "outputs": [],
   "source": []
  },
  {
   "cell_type": "code",
   "execution_count": 63,
   "metadata": {},
   "outputs": [],
   "source": [
    "aes_key = get_random_bytes(16).hex()\n",
    "\n",
    "def AES_encrypt(plaintext,aes_key):\n",
    "    aes_key = bytes.fromhex(str(aes_key))\n",
    "    plaintext = base64.b64encode(plaintext.encode())\n",
    "    cipher = AES.new(aes_key, AES.MODE_EAX)\n",
    "    ciphertext, tag = cipher.encrypt_and_digest(plaintext)\n",
    "    ciphertext = str(cipher.nonce.hex()) + str(tag.hex()) + str(ciphertext.hex())\n",
    "    return ciphertext\n",
    "\n",
    "\n",
    "def AES_decrypt(ciphertext,aes_key):\n",
    "    aes_key = bytes.fromhex(str(aes_key))\n",
    "    nonce = ciphertext[:32]\n",
    "    tag = ciphertext[32:64]\n",
    "    ciphertext = ciphertext[64:]\n",
    "    nonce = bytes.fromhex(str(nonce))\n",
    "    tag = bytes.fromhex(str(tag))\n",
    "    ciphertext = bytes.fromhex(str(ciphertext))\n",
    "    cipher = AES.new(aes_key, AES.MODE_EAX, nonce)\n",
    "    plaintext = cipher.decrypt_and_verify(ciphertext, tag)\n",
    "    plaintext = base64.b64decode(plaintext).decode()\n",
    "    return plaintext"
   ]
  },
  {
   "cell_type": "code",
   "execution_count": 64,
   "metadata": {},
   "outputs": [
    {
     "data": {
      "text/plain": [
       "True"
      ]
     },
     "execution_count": 64,
     "metadata": {},
     "output_type": "execute_result"
    }
   ],
   "source": [
    "AES_decrypt(AES_encrypt(text,aes_key),aes_key) == text"
   ]
  },
  {
   "cell_type": "code",
   "execution_count": 105,
   "metadata": {},
   "outputs": [],
   "source": [
    "private_key, public_key = rsa_keypair()\n",
    "\n",
    "from cryptography.hazmat.backends import default_backend\n",
    "from cryptography.hazmat.primitives import serialization\n",
    "private_key = serialization.load_pem_private_key(\n",
    "                        private_key.private_bytes(encoding=cryptography.hazmat.primitives.serialization.Encoding.PEM, format=cryptography.hazmat.primitives.serialization.PrivateFormat.PKCS8, encryption_algorithm=cryptography.hazmat.primitives.serialization.NoEncryption()).decode().encode('utf-8'),\n",
    "                        password=None,\n",
    "                        backend=default_backend()\n",
    "                    )\n",
    "\n",
    "\n",
    "public_key = serialization.load_pem_public_key(\n",
    "    public_key.public_bytes(encoding=cryptography.hazmat.primitives.serialization.Encoding.PEM, format=cryptography.hazmat.primitives.serialization.PublicFormat.SubjectPublicKeyInfo).decode().encode('utf-8'))"
   ]
  },
  {
   "cell_type": "code",
   "execution_count": 106,
   "metadata": {},
   "outputs": [],
   "source": [
    "signature = sign(text,private_key)"
   ]
  },
  {
   "cell_type": "code",
   "execution_count": 107,
   "metadata": {},
   "outputs": [
    {
     "data": {
      "text/plain": [
       "True"
      ]
     },
     "execution_count": 107,
     "metadata": {},
     "output_type": "execute_result"
    }
   ],
   "source": [
    "verify(text,signature,public_key)"
   ]
  }
 ],
 "metadata": {
  "kernelspec": {
   "display_name": "Python 3",
   "language": "python",
   "name": "python3"
  },
  "language_info": {
   "codemirror_mode": {
    "name": "ipython",
    "version": 3
   },
   "file_extension": ".py",
   "mimetype": "text/x-python",
   "name": "python",
   "nbconvert_exporter": "python",
   "pygments_lexer": "ipython3",
   "version": "3.11.8"
  }
 },
 "nbformat": 4,
 "nbformat_minor": 2
}
